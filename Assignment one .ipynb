{
 "cells": [
  {
   "cell_type": "code",
   "execution_count": 1,
   "id": "76efc0ba",
   "metadata": {},
   "outputs": [
    {
     "name": "stdout",
     "output_type": "stream",
     "text": [
      "The sorted list of ages is: [19, 19, 20, 22, 24, 24, 24, 25, 25, 26]\n",
      "The maximum and minimum age from the given list : 19 26\n",
      "The new upadted age list is: [19, 19, 20, 22, 24, 24, 24, 25, 25, 26, 19, 26]\n",
      "The median of ages:  24.0\n",
      "The average age of the given list: 22.75\n",
      "The ranage of the ages is 7\n"
     ]
    }
   ],
   "source": [
    "ages=[19,22,19,24,20,25,26,24,25,24]\n",
    "\n",
    "ages.sort()\n",
    "print(\"The sorted list of ages is:\",ages)\n",
    "# finidng the minimum and maximum age \n",
    "minimum_age=min(ages)\n",
    "maximum_age=max(ages)\n",
    "\n",
    "print(\"The maximum and minimum age from the given list :\",minimum_age,maximum_age)\n",
    "\n",
    "#adding the minimum and maximum age to the list\n",
    "\n",
    "ages.extend((minimum_age,maximum_age))\n",
    "print(\"The new upadted age list is:\",ages)\n",
    "\n",
    "#calculating the median of age list:\n",
    "if len(ages) % 2 == 0:\n",
    "    median = (ages[len(ages)//2] + ages[len(ages)//2-1])/2\n",
    "else:\n",
    "    median = ages[len(ages)//2]\n",
    "print(\"The median of ages: \",median)\n",
    "        \n",
    "#average of the ages list:\n",
    "average =sum(ages)/len(ages)\n",
    "print(\"The average age of the given list:\", average)\n",
    "\n",
    "#range of the ages:\n",
    "\n",
    "range_age=maximum_age-minimum_age\n",
    "print(\"The ranage of the ages is\",range_age)\n",
    "        \n",
    "\n",
    "\n"
   ]
  },
  {
   "cell_type": "code",
   "execution_count": 2,
   "id": "da30e8c7",
   "metadata": {},
   "outputs": [
    {
     "name": "stdout",
     "output_type": "stream",
     "text": [
      "{'name': 'puppy', 'color': 'white&balck', 'breed': 'Husky', 'age': 6, 'legs': 4}\n",
      "9\n",
      "<class 'list'>\n",
      "the student details are: {'first_name': 'satya', 'last_name': 'reddy', 'gender': 'Male', 'age': 26, 'martialstatus': 'single', 'skills': ['javascript', 'HTML', 'servicenow', 'python'], 'Country': 'USA', 'city': 'kansas', 'address': 'antioch '}\n",
      "['first_name', 'last_name', 'gender', 'age', 'martialstatus', 'skills', 'Country', 'city', 'address']\n",
      "['satya', 'reddy', 'Male', 26, 'single', ['javascript', 'HTML', 'servicenow', 'python'], 'USA', 'kansas', 'antioch ']\n"
     ]
    }
   ],
   "source": [
    "# creating the empty dictionary as dog\n",
    "dog={}\n",
    "\n",
    "#adding key and value to the dictionary here:\n",
    "dog={'name':'puppy', 'color':'white&balck', 'breed': 'Husky','age':6,'legs':4} \n",
    "print(dog)\n",
    "\n",
    "#creating the new dictionary and assigning keys and values here:\n",
    "student={'first_name':'satya','last_name':'reddy','gender':'Male','age':26,'martialstatus':'single',\n",
    "         'skills':['javascript','HTML'],'Country':'USA','city':'kansas','address':'antioch '} \n",
    "\n",
    "#length of student dictionary\n",
    "length=len(student)\n",
    "print(length)\n",
    "\n",
    "#add value of the skills key\n",
    "student['skills']\n",
    "\n",
    "#datatype of the skills key here:\n",
    "print(type(student['skills']))\n",
    "\n",
    "#adding new skills to the sudent dictionary:\n",
    "student['skills'].extend((('servicenow'),('python')))\n",
    "print(\"the student details are:\",student)\n",
    "\n",
    "#keys list in the dictionary:\n",
    "keys=list(student.keys())\n",
    "print(keys)\n",
    "\n",
    "#key values in the dictionary:\n",
    "values=list(student.values())\n",
    "print(values)\n",
    "         "
   ]
  },
  {
   "cell_type": "code",
   "execution_count": 3,
   "id": "83442438",
   "metadata": {},
   "outputs": [
    {
     "name": "stdout",
     "output_type": "stream",
     "text": [
      "('satya', 'san', 'sanju', 'keerth', 'jasmine')\n",
      "5\n",
      "('satya', 'san', 'sanju', 'keerth', 'jasmine', 'nagend', 'kumar')\n"
     ]
    }
   ],
   "source": [
    "# CREATE THE NEW TUPLES WITHE THE NAMES AS SISTER AND BROTHER \n",
    "\n",
    "brother=('satya', 'san','sanju')\n",
    "sisters=('keerth','jasmine')\n",
    "\n",
    "#combining both brother and sister tuples to the new value as siblings:\n",
    "siblings=brother+sisters\n",
    "print(siblings)\n",
    "\n",
    "#count the number of siblings and print those values:\n",
    "\n",
    "total_siblings=len(siblings)\n",
    "print(total_siblings)\n",
    "\n",
    "# changes the tuples and adding the names of both mother and father and assign to the family members:\n",
    "\n",
    "family_members=list(siblings)\n",
    "family_members.extend(['nagend','kumar'])\n",
    "family_members=tuple(family_members)\n",
    "print(family_members)\n",
    "\n",
    "\n"
   ]
  },
  {
   "cell_type": "code",
   "execution_count": 11,
   "id": "63135dca",
   "metadata": {},
   "outputs": [
    {
     "name": "stdout",
     "output_type": "stream",
     "text": [
      "7\n",
      "{'Apple', 'Twitter', 'facebook', 'Amazon', 'Google', 'IBM', 'Microsoft', 'Oracle'}\n",
      "{'facebook', 'Google', 'Twitter', 'Oracle', 'qualcomm', 'Apple', 'Amazon', 'Accenture', 'wipro', 'IBM', 'Microsoft'}\n",
      "{'Google', 'Twitter', 'Oracle', 'qualcomm', 'Apple', 'Amazon', 'Accenture', 'wipro', 'IBM', 'Microsoft'}\n",
      "{19, 20, 22, 24, 25, 26, 27, 28}\n",
      "{19, 20, 22, 24, 25, 26}\n",
      "True\n",
      "False\n",
      "{27, 28}\n",
      "{27, 28}\n",
      "8\n",
      "5\n"
     ]
    }
   ],
   "source": [
    "#adding the set  here:\n",
    "\n",
    "it_companies={'facebook','Google','Microsoft','Apple','IBM','Oracle','Amazon'}\n",
    "A={19,22,24,20,25,26}\n",
    "B={19,22,20,25,26,24,28,27}\n",
    "age=[22,19,24,25,26,24,25,24]\n",
    "\n",
    "#calculatiung the length of it_companies:\n",
    "companies_length=len(it_companies)\n",
    "print(companies_length)\n",
    "\n",
    "#adding new value 'Twitter'to the it_companies:\n",
    "it_companies.add('Twitter')\n",
    "print(it_companies)\n",
    "\n",
    "#now adding multiple it companies at once to it:\n",
    "it_companies.update({'Accenture','qualcomm','wipro'})\n",
    "print(it_companies)\n",
    "\n",
    "# Remove any one of the company here :\n",
    "\n",
    "it_companies.remove('facebook')\n",
    "print(it_companies)\n",
    "\n",
    "#diff between dicatd and remove:\n",
    "\n",
    "#discard() doesnot throw any error in the list while the remove()will throw an error if the element  is not found here and here add example in this for understanding:\n",
    "\n",
    "it_companies.discard('Capgemini')\n",
    "\n",
    "\n",
    "#joining A and  B\n",
    "AB=A.union(B)\n",
    "print(AB)\n",
    "\n",
    "#find A intersection B\n",
    "ab= A.intersection(B)\n",
    "print(ab)\n",
    "\n",
    "#A subset of B\n",
    "print(A.issubset(B))\n",
    "\n",
    "#checking the A and B are disjoint sets\n",
    "\n",
    "print(A.isdisjoint(B))\n",
    "\n",
    "#join A with B and B with A\n",
    "\n",
    "c=A.symmetric_difference(B)\n",
    "print(c)\n",
    "#Symmetric difference. between a and b \n",
    "\n",
    "d=A.symmetric_difference(B)\n",
    "print(d)\n",
    "#deleting the sets completely\n",
    "del AB\n",
    "del ab\n",
    "\n",
    "\n",
    "#convert the ages to a set and  comparing the length of teh list and the set\n",
    "\n",
    "setlist_age=set(age)\n",
    "print(len(age))\n",
    "print(len(setlist_age))\n",
    "\n",
    "\n",
    "    "
   ]
  },
  {
   "cell_type": "code",
   "execution_count": 2,
   "id": "035a8ad1",
   "metadata": {},
   "outputs": [
    {
     "name": "stdout",
     "output_type": "stream",
     "text": [
      "the area ofg the circle is: 2827.43\n",
      "The circumference of circle: 36.28\n",
      "please enter the raidus:30\n",
      "The are of the circle of the given radius is: 2827.43\n"
     ]
    }
   ],
   "source": [
    "import math \n",
    "raidus=30\n",
    "#finding the area of the circle \n",
    "\n",
    "_area_of_circle=math.pi*(raidus**2)\n",
    "print(\"the area ofg the circle is:\",round(_area_of_circle,2))\n",
    "\n",
    "#calculating perimeter of the circle\n",
    "_circum_of_circle= 2*math.pi +raidus\n",
    "print(\"The circumference of circle:\",round(_circum_of_circle,2))\n",
    "\n",
    "#calculating area of  circle with the input raidus taken from user:\n",
    "radius= float(input( \"please enter the raidus:\"))\n",
    "_area_of_circle_radius=math.pi*(radius **2)\n",
    "print(\"The are of the circle of the given radius is:\",round(_area_of_circle_radius,2))"
   ]
  },
  {
   "cell_type": "code",
   "execution_count": 3,
   "id": "9d171623",
   "metadata": {},
   "outputs": [
    {
     "name": "stdout",
     "output_type": "stream",
     "text": [
      "10\n"
     ]
    }
   ],
   "source": [
    "#given Statement\n",
    "\n",
    "statement =\"I am a teacher and I love to inspire and teach people\"\n",
    "\n",
    "#now here from the given statement we are spliting it using the split method :\n",
    "split_stmt=statement.split()\n",
    "\n",
    "#using the split method and set to get the unique words from that stmt:\n",
    "uniq_words=set(split_stmt)\n",
    "\n",
    "\n",
    "#counting the unique word in this stmt\n",
    "print(len(uniq_words))\n"
   ]
  },
  {
   "cell_type": "code",
   "execution_count": 4,
   "id": "d3b5c9fe",
   "metadata": {},
   "outputs": [
    {
     "name": "stdout",
     "output_type": "stream",
     "text": [
      "Name\tAge\tCountry\tCity\n",
      "Asabeneh\t250\tFinland\tHelsinki\n"
     ]
    }
   ],
   "source": [
    "#usig tab escape sequence to this :\n",
    "\n",
    "print(\"Name\\tAge\\tCountry\\tCity\")\n",
    "print(\"Asabeneh\\t250\\tFinland\\tHelsinki\")"
   ]
  },
  {
   "cell_type": "code",
   "execution_count": 19,
   "id": "a3ba1f8e",
   "metadata": {},
   "outputs": [
    {
     "name": "stdout",
     "output_type": "stream",
     "text": [
      "The area of a circle with raidus 10 is 314.0 meter square\n"
     ]
    }
   ],
   "source": [
    "#adding the given stmt here :\n",
    "\n",
    "raidus =10\n",
    "area=3.14*(raidus**2) \n",
    "print(\"The area of a circle with raidus %r is %a meter square\"%((raidus, area)))"
   ]
  },
  {
   "cell_type": "code",
   "execution_count": 2,
   "id": "5c8fd768",
   "metadata": {},
   "outputs": [
    {
     "name": "stdout",
     "output_type": "stream",
     "text": [
      "Enter no.of students:4\n",
      "enter the weights of students in lbs:150\n",
      "The weight of  4 students in kgs is: [150]\n",
      "The weights of same  4 students in kgs is: [68.03]\n",
      "enter the weights of students in lbs:155\n",
      "The weight of  4 students in kgs is: [150, 155]\n",
      "The weights of same  4 students in kgs is: [68.03]\n",
      "The weights of same  4 students in kgs is: [68.03, 70.29]\n",
      "enter the weights of students in lbs:145\n",
      "The weight of  4 students in kgs is: [150, 155, 145]\n",
      "The weights of same  4 students in kgs is: [68.03]\n",
      "The weights of same  4 students in kgs is: [68.03, 70.29]\n",
      "The weights of same  4 students in kgs is: [68.03, 70.29, 65.76]\n",
      "enter the weights of students in lbs:148\n",
      "The weight of  4 students in kgs is: [150, 155, 145, 148]\n",
      "The weights of same  4 students in kgs is: [68.03]\n",
      "The weights of same  4 students in kgs is: [68.03, 70.29]\n",
      "The weights of same  4 students in kgs is: [68.03, 70.29, 65.76]\n",
      "The weights of same  4 students in kgs is: [68.03, 70.29, 65.76, 67.12]\n"
     ]
    }
   ],
   "source": [
    "# Creating the emplty list here:\n",
    "\n",
    "weight_in_lbs=[]\n",
    "\n",
    "#number of elements as input\n",
    "\n",
    "n=int(input(\"Enter no.of students:\"))\n",
    "\n",
    "#interating till the range of student weights:\n",
    "\n",
    "for i in range(n):\n",
    "    \n",
    "    lbs_list=int(input(\"enter the weights of students in lbs:\"))\n",
    "    #adding the weights\n",
    "    weight_in_lbs.append(lbs_list)\n",
    "    \n",
    "    print(\"The weight of \",n,\"students in kgs is:\",weight_in_lbs)\n",
    "    \n",
    "    \n",
    "    #creating an empty list for kgs \n",
    "    \n",
    "    weight_in_kgs=[]\n",
    "    for  i in weight_in_lbs:\n",
    "        weight_in_kgs.append(round(i/2.205,2))\n",
    "        \n",
    "        print(\"The weights of same \",n,\"students in kgs is:\",(weight_in_kgs))"
   ]
  },
  {
   "cell_type": "code",
   "execution_count": null,
   "id": "25f03695",
   "metadata": {},
   "outputs": [],
   "source": []
  },
  {
   "cell_type": "code",
   "execution_count": null,
   "id": "17bbed72",
   "metadata": {},
   "outputs": [],
   "source": []
  }
 ],
 "metadata": {
  "kernelspec": {
   "display_name": "Python 3 (ipykernel)",
   "language": "python",
   "name": "python3"
  },
  "language_info": {
   "codemirror_mode": {
    "name": "ipython",
    "version": 3
   },
   "file_extension": ".py",
   "mimetype": "text/x-python",
   "name": "python",
   "nbconvert_exporter": "python",
   "pygments_lexer": "ipython3",
   "version": "3.10.9"
  }
 },
 "nbformat": 4,
 "nbformat_minor": 5
}
